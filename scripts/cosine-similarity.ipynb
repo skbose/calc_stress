{
 "cells": [
  {
   "cell_type": "code",
   "execution_count": 1,
   "metadata": {
    "collapsed": true,
    "deletable": true,
    "editable": true
   },
   "outputs": [],
   "source": [
    "import numpy as np"
   ]
  },
  {
   "cell_type": "code",
   "execution_count": 2,
   "metadata": {
    "collapsed": true,
    "deletable": true,
    "editable": true
   },
   "outputs": [],
   "source": [
    "def normalize(x):\n",
    "    norm1 = x / np.linalg.norm(x)\n",
    "    return norm1"
   ]
  },
  {
   "cell_type": "code",
   "execution_count": 3,
   "metadata": {
    "collapsed": false,
    "deletable": true,
    "editable": true
   },
   "outputs": [],
   "source": [
    "num_sitting = 18\n",
    "# num_sleeping = 1\n",
    "\n",
    "to_check = [2]\n",
    "\n",
    "target_vec_1 = normalize(np.loadtxt(\"/home/sourav/Datasets/fmorph/male_sitting_\" + str(to_check[0]) + \"/skel.vec\"))\n",
    "# target_vec_2 = normalize(np.loadtxt(\"/home/sourav/Datasets/fmorph/male_sitting_\" + str(to_check[1]) + \"/skel.vec\"))\n",
    "\n",
    "dist_1 = []\n",
    "# dist_2 = []\n",
    "\n",
    "for i in range(1, num_sitting+1):\n",
    "    if i == 8 or i in to_check:\n",
    "        # data file not present. empty directory\n",
    "        continue\n",
    "    \n",
    "    vec = np.loadtxt(\"/home/sourav/Datasets/fmorph/male_sitting_\" + str(i) + \"/skel.vec\")\n",
    "    vec = normalize(vec)\n",
    "    \n",
    "    score_1 = np.dot(vec, target_vec_1)\n",
    "    # score_2 = np.dot(vec, target_vec_2)\n",
    "    \n",
    "    dist_1.append((score_1, i, \"sitting\"))\n",
    "    # dist_2.append((score_2, i, \"sitting\"))"
   ]
  },
  {
   "cell_type": "raw",
   "metadata": {
    "collapsed": false,
    "deletable": true,
    "editable": true
   },
   "source": [
    "# sleeping poses\n",
    "for i in range(1, num_sleeping+1):    \n",
    "    vec = np.loadtxt(\"/home/sourav/Datasets/fmorph/male_sleeping_\" + str(i) + \"/skel.vec\")\n",
    "    vec = normalize(vec)\n",
    "    \n",
    "    score_1 = np.dot(vec, target_vec_1)\n",
    "    score_2 = np.dot(vec, target_vec_2)\n",
    "    \n",
    "    dist_1.append((score_1, i, \"sleeping\"))\n",
    "    dist_2.append((score_2, i, \"sleeping\"))"
   ]
  },
  {
   "cell_type": "code",
   "execution_count": 4,
   "metadata": {
    "collapsed": false,
    "deletable": true,
    "editable": true
   },
   "outputs": [],
   "source": [
    "dist_1.sort(key=lambda x: x[0], reverse=True)\n",
    "# dist_2.sort(key=lambda x: x[0], reverse=True)"
   ]
  },
  {
   "cell_type": "markdown",
   "metadata": {
    "deletable": true,
    "editable": true
   },
   "source": [
    "Cosine similarity and finding distribution over regions is done in the following part."
   ]
  },
  {
   "cell_type": "code",
   "execution_count": 5,
   "metadata": {
    "collapsed": true,
    "deletable": true,
    "editable": true
   },
   "outputs": [],
   "source": [
    "root = \"/home/sourav/Datasets/fmorph/\"\n",
    "folder_name = \"male_sitting_\"\n",
    "file_name = \"support.info\"\n",
    "\n",
    "from operator import add\n",
    "from random import uniform\n",
    "\n",
    "import random\n",
    "from datetime import datetime\n",
    "import time"
   ]
  },
  {
   "cell_type": "code",
   "execution_count": 91,
   "metadata": {
    "collapsed": false,
    "deletable": true,
    "editable": true
   },
   "outputs": [],
   "source": [
    "def read_support_file(path):\n",
    "    \n",
    "    '''returns a vector of 0s and 1s'''\n",
    "    vec = []\n",
    "    with open(path, 'r') as fp:\n",
    "        for line in fp:\n",
    "            vec.append(int(line.strip().split()[1]))\n",
    "    return vec\n",
    "\n",
    "def read_region_dist():\n",
    "    \n",
    "    '''returns the common vec'''\n",
    "    path = \"/home/sourav/Datasets/fmorph/region_dist_vec.dat\"\n",
    "    vec = []\n",
    "    with open(path) as fp:\n",
    "        vec = fp.read().strip().split()\n",
    "    vec = map(float, vec)\n",
    "    vec = map(lambda x:x*0.2, vec)\n",
    "    return vec\n",
    "\n",
    "def sample_from(vec_1):\n",
    "    '''samples regions from the vector'''\n",
    "    random.seed(time.time())\n",
    "    salience = [0] * 25\n",
    "    for i in range(0, 10):\n",
    "        tmp = []\n",
    "        for val in vec_1:\n",
    "            if val > 0.7:\n",
    "                tmp.append(1)\n",
    "            else:\n",
    "                if uniform(0,1) <= val:\n",
    "                    tmp.append(1)\n",
    "                else:\n",
    "                    tmp.append(0)\n",
    "        salience = map(add, salience, tmp)\n",
    "        \n",
    "    salience = map(lambda x: x/10.0, salience)\n",
    "    # print salience\n",
    "    salience = map(lambda x: 1 if x >= 0.5 else 0, salience)\n",
    "    \n",
    "    return salience"
   ]
  },
  {
   "cell_type": "code",
   "execution_count": 106,
   "metadata": {
    "collapsed": false,
    "deletable": true,
    "editable": true
   },
   "outputs": [
    {
     "name": "stdout",
     "output_type": "stream",
     "text": [
      "[1, 1, 0, 1, 0, 0, 0, 0, 0, 0, 0, 0, 0, 0, 1, 1, 0, 1, 1, 1, 1, 0, 1, 1, 1]\n",
      "[1, 1, 0, 0, 0, 0, 0, 0, 0, 0, 0, 0, 0, 0, 1, 1, 0, 1, 1, 1, 1, 0, 0, 0, 1]\n"
     ]
    }
   ],
   "source": [
    "k = 5\n",
    "vec_1 = [0] * 25\n",
    "for item in dist_1[:k]:\n",
    "    path = root + folder_name + str(item[1]) + \"/\" + \"support.info\"\n",
    "    tmp = map(lambda x: x *item[0], read_support_file(path))\n",
    "    vec_1 = map(add, vec_1, tmp)\n",
    "\n",
    "vec_1 = map(lambda x: 0.8 * (x/float(k)), vec_1)\n",
    "main = read_region_dist()\n",
    "vec_1 = map(add, vec_1, main)\n",
    "vec_1 = sample_from(vec_1)\n",
    "\n",
    "orig = read_support_file(root + folder_name + str(to_check[0]) + \"/\" + \"support.info\")\n",
    "\n",
    "print vec_1\n",
    "print orig"
   ]
  },
  {
   "cell_type": "code",
   "execution_count": 110,
   "metadata": {
    "collapsed": false,
    "deletable": true,
    "editable": true
   },
   "outputs": [],
   "source": [
    "from matplotlib import pyplot as plt\n",
    "\n",
    "joint_names_path = root + \"joint_names.txt\"\n",
    "\n",
    "joint_names_list = []\n",
    "with open(joint_names_path, 'r') as fp:\n",
    "    joint_names_list = fp.read().strip().split()\n",
    "    \n",
    "plt.figure(1)\n",
    "plt.subplot(211) # a 5X1 grid\n",
    "plt.title('Approximated Salience Scores')\n",
    "plt.stem(vec_1)\n",
    "plt.xticks(range(0,25), [joint_names_list[i] for i in range(0,25)], rotation=90)\n",
    "\n",
    "plt.subplot(212)\n",
    "plt.title('Original Salience Scores')\n",
    "plt.stem(orig)\n",
    "plt.xticks(range(0,25), [joint_names_list[i] for i in range(0,25)], rotation=90)\n",
    "\n",
    "plt.tight_layout()\n",
    "plt.savefig(root + folder_name + str(to_check[0]) + \"/\" + \"vector_diff.png\")"
   ]
  },
  {
   "cell_type": "code",
   "execution_count": 9,
   "metadata": {
    "collapsed": false,
    "deletable": true,
    "editable": true
   },
   "outputs": [
    {
     "data": {
      "text/plain": [
       "[(0.81547712030911412, 5, 'sitting'),\n",
       " (0.81080333413396133, 10, 'sitting'),\n",
       " (0.76935420738048077, 3, 'sitting'),\n",
       " (0.74526475068829223, 7, 'sitting'),\n",
       " (0.72114783467933186, 16, 'sitting')]"
      ]
     },
     "execution_count": 9,
     "metadata": {},
     "output_type": "execute_result"
    }
   ],
   "source": [
    "k = 5\n",
    "dist_1[:k]"
   ]
  }
 ],
 "metadata": {
  "kernelspec": {
   "display_name": "Python 2",
   "language": "python",
   "name": "python2"
  },
  "language_info": {
   "codemirror_mode": {
    "name": "ipython",
    "version": 2
   },
   "file_extension": ".py",
   "mimetype": "text/x-python",
   "name": "python",
   "nbconvert_exporter": "python",
   "pygments_lexer": "ipython2",
   "version": "2.7.12"
  }
 },
 "nbformat": 4,
 "nbformat_minor": 2
}
