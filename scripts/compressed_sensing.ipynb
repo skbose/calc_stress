{
 "cells": [
  {
   "cell_type": "code",
   "execution_count": 2,
   "metadata": {
    "colab": {
     "autoexec": {
      "startup": false,
      "wait_interval": 0
     }
    },
    "colab_type": "code",
    "collapsed": true,
    "deletable": true,
    "editable": true,
    "id": "QoSgmZ-TYY3U"
   },
   "outputs": [],
   "source": [
    "import math, time, random, sys\n",
    "import numpy as np\n",
    "import matplotlib.pyplot as plt"
   ]
  },
  {
   "cell_type": "markdown",
   "metadata": {
    "colab_type": "text",
    "deletable": true,
    "editable": true,
    "id": "-EbeZ6zNtDL-"
   },
   "source": [
    "### **We want to compress N bit input data to M bit data. **"
   ]
  },
  {
   "cell_type": "code",
   "execution_count": 3,
   "metadata": {
    "colab": {
     "autoexec": {
      "startup": false,
      "wait_interval": 0
     }
    },
    "colab_type": "code",
    "collapsed": true,
    "deletable": true,
    "editable": true,
    "id": "dqzTc_G1bRxi"
   },
   "outputs": [],
   "source": [
    "N = 2048 # length of input vector X\n",
    "K = 30 # number of sparse elements in X\n",
    "M = 300 # length of compressed data\n",
    "if M < K*math.log(N/K):\n",
    "  print ('Sampling is not enough')\n",
    "  sys.exit()\n",
    "lam = 1 # sparsity scale"
   ]
  },
  {
   "cell_type": "markdown",
   "metadata": {
    "colab_type": "text",
    "deletable": true,
    "editable": true,
    "id": "CN8s495SycnU"
   },
   "source": [
    "### **Gradient of objective function**"
   ]
  },
  {
   "cell_type": "code",
   "execution_count": 4,
   "metadata": {
    "colab": {
     "autoexec": {
      "startup": false,
      "wait_interval": 0
     }
    },
    "colab_type": "code",
    "collapsed": false,
    "deletable": true,
    "editable": true,
    "id": "VbN_h_etx_dW"
   },
   "outputs": [
    {
     "ename": "SyntaxError",
     "evalue": "invalid syntax (<ipython-input-4-1e6a7098261f>, line 2)",
     "output_type": "error",
     "traceback": [
      "\u001b[0;36m  File \u001b[0;32m\"<ipython-input-4-1e6a7098261f>\"\u001b[0;36m, line \u001b[0;32m2\u001b[0m\n\u001b[0;31m    return AtA@x - Aty\u001b[0m\n\u001b[0m              ^\u001b[0m\n\u001b[0;31mSyntaxError\u001b[0m\u001b[0;31m:\u001b[0m invalid syntax\n"
     ]
    }
   ],
   "source": [
    "def gradient(x, AtA, Aty):\n",
    "  return AtA@x - Aty"
   ]
  },
  {
   "cell_type": "markdown",
   "metadata": {
    "colab_type": "text",
    "deletable": true,
    "editable": true,
    "id": "vksm9HYsw-gm"
   },
   "source": [
    "### **Function for Proximal gradient method**"
   ]
  },
  {
   "cell_type": "code",
   "execution_count": 4,
   "metadata": {
    "colab": {
     "autoexec": {
      "startup": false,
      "wait_interval": 0
     }
    },
    "colab_type": "code",
    "collapsed": true,
    "deletable": true,
    "editable": true,
    "id": "EUlrDeA_wxaG"
   },
   "outputs": [],
   "source": [
    "def proximalGradient(x, AtA, Aty, L, mu):\n",
    "  u = x - 1/L*gradient(x, AtA, Aty)\n",
    "  ui = np.nan_to_num(1/abs(u))\n",
    "  return np.maximum(0, 1 - mu*ui)*u"
   ]
  },
  {
   "cell_type": "markdown",
   "metadata": {
    "colab_type": "text",
    "deletable": true,
    "editable": true,
    "id": "WMhI1FOkj2RY"
   },
   "source": [
    "### **Function for Accelerated proximal gradient method**"
   ]
  },
  {
   "cell_type": "code",
   "execution_count": 5,
   "metadata": {
    "colab": {
     "autoexec": {
      "startup": false,
      "wait_interval": 0
     }
    },
    "colab_type": "code",
    "collapsed": true,
    "deletable": true,
    "editable": true,
    "id": "yKCf6mUJi4do"
   },
   "outputs": [],
   "source": [
    "def accProximalGradient(x, px, t, AtA, Aty, L, mu):\n",
    "  w = x + (t-1)/(t+2)*(x - px)\n",
    "  return proximalGradient(w, AtA, Aty, L, mu)"
   ]
  },
  {
   "cell_type": "markdown",
   "metadata": {
    "colab_type": "text",
    "deletable": true,
    "editable": true,
    "id": "qxbrHHC2e0nU"
   },
   "source": [
    "### Function for Coordinate descent method"
   ]
  },
  {
   "cell_type": "code",
   "execution_count": 6,
   "metadata": {
    "colab": {
     "autoexec": {
      "startup": false,
      "wait_interval": 0
     }
    },
    "colab_type": "code",
    "collapsed": true,
    "deletable": true,
    "editable": true,
    "id": "hy4PdB8a5YCY"
   },
   "outputs": [],
   "source": [
    "def coordinateDescent(mu_cd, Aty, AtA, x):\n",
    "  for i in range(N):\n",
    "    ui = np.nan_to_num((Aty[i]- AtA[i]@x + AtA[i][i]*x[i]) / AtA[i][i])\n",
    "    x[i] = np.maximum(0, 1 - mu_cd[i]/abs(ui))*ui\n",
    "  return x  "
   ]
  },
  {
   "cell_type": "markdown",
   "metadata": {
    "colab_type": "text",
    "deletable": true,
    "editable": true,
    "id": "Ip7dpGXCZ9N4"
   },
   "source": [
    "### **We generate a random vector s of length K. We pad and shuffle it to create a K-sarse vector X of length N.**"
   ]
  },
  {
   "cell_type": "code",
   "execution_count": 7,
   "metadata": {
    "colab": {
     "autoexec": {
      "startup": false,
      "wait_interval": 0
     }
    },
    "colab_type": "code",
    "collapsed": true,
    "deletable": true,
    "editable": true,
    "id": "O5jTfwLJZ3iu"
   },
   "outputs": [],
   "source": [
    "s = np.random.rand(K) # actual information\n",
    "#s = 2*(np.random.rand(K)>0.5)-1\n",
    "X = np.concatenate([s,np.zeros(N-K)])\n",
    "np.random.shuffle(X)"
   ]
  },
  {
   "cell_type": "markdown",
   "metadata": {
    "colab_type": "text",
    "deletable": true,
    "editable": true,
    "id": "kNIxQpifsUSs"
   },
   "source": [
    "### **Generate a sensing matrix A with random elements. The compressed data is y of length M.**"
   ]
  },
  {
   "cell_type": "code",
   "execution_count": 8,
   "metadata": {
    "colab": {
     "autoexec": {
      "startup": false,
      "wait_interval": 0
     }
    },
    "colab_type": "code",
    "collapsed": true,
    "deletable": true,
    "editable": true,
    "id": "NtQzWD2KqdUG"
   },
   "outputs": [],
   "source": [
    "A = np.random.randn(M,N) # dictionary\n",
    "y = A@X # compressed data"
   ]
  },
  {
   "cell_type": "markdown",
   "metadata": {
    "colab_type": "text",
    "deletable": true,
    "editable": true,
    "id": "Vn30XJ7-e6Xq"
   },
   "source": [
    "### Normalising A and y"
   ]
  },
  {
   "cell_type": "code",
   "execution_count": 9,
   "metadata": {
    "colab": {
     "autoexec": {
      "startup": false,
      "wait_interval": 0
     }
    },
    "colab_type": "code",
    "collapsed": true,
    "deletable": true,
    "editable": true,
    "id": "pEEJVIPpHUto"
   },
   "outputs": [],
   "source": [
    "y = y-np.mean(y)\n",
    "mean = np.expand_dims(np.mean(A, axis = 0), axis = 0)\n",
    "mean_stack = mean.copy()\n",
    "for i in range(A.shape[0]-1):\n",
    "    mean_stack = np.r_[mean_stack,mean]\n",
    "A = A - mean_stack"
   ]
  },
  {
   "cell_type": "markdown",
   "metadata": {
    "colab_type": "text",
    "deletable": true,
    "editable": true,
    "id": "HsOqxr3sJwRI"
   },
   "source": [
    "### **Constants computed offline**"
   ]
  },
  {
   "cell_type": "code",
   "execution_count": 10,
   "metadata": {
    "colab": {
     "autoexec": {
      "startup": false,
      "wait_interval": 0
     }
    },
    "colab_type": "code",
    "collapsed": true,
    "deletable": true,
    "editable": true,
    "id": "UqKASjv5KDKq"
   },
   "outputs": [],
   "source": [
    "AtA = A.transpose()@A\n",
    "Aty = A.transpose()@y\n",
    "L = max(np.linalg.eigvalsh(AtA)) # Lipschitz constant\n",
    "mu = lam/L;\n",
    "mu_cd = np.zeros(N)\n",
    "for i in range(N):\n",
    "  mu_cd[i] = lam/sum(np.square(A[:,i]))\n",
    "rtol = 1e-4 # relative tolerance\n",
    "atol = 1e-6 # absolute tolerance\n",
    "ix = np.random.rand(N) # intialisation of x"
   ]
  },
  {
   "cell_type": "markdown",
   "metadata": {
    "colab_type": "text",
    "deletable": true,
    "editable": true,
    "id": "zQ-Oo5AJxUwm"
   },
   "source": [
    "### **Proximal gradient iterations**"
   ]
  },
  {
   "cell_type": "code",
   "execution_count": 11,
   "metadata": {
    "colab": {
     "autoexec": {
      "startup": false,
      "wait_interval": 0
     },
     "base_uri": "https://localhost:8080/",
     "height": 71
    },
    "colab_type": "code",
    "collapsed": false,
    "deletable": true,
    "editable": true,
    "executionInfo": {
     "elapsed": 55220,
     "status": "ok",
     "timestamp": 1525023831192,
     "user": {
      "displayName": "Shashi Ranjan",
      "photoUrl": "//lh6.googleusercontent.com/-aj3U1EVR1Uw/AAAAAAAAAAI/AAAAAAAAARQ/zGzRw6982f0/s50-c-k-no/photo.jpg",
      "userId": "109026214015388441225"
     },
     "user_tz": -330
    },
    "id": "u6E2o5hTulyE",
    "outputId": "3ac9a607-a67b-4fc8-f820-1cbe94c352fc"
   },
   "outputs": [
    {
     "name": "stdout",
     "output_type": "stream",
     "text": [
      "Number of iterations:  6207\n",
      "Cumalative error:  0.1259362813468983\n",
      "Time elapsed:  43.76753902435303\n"
     ]
    }
   ],
   "source": [
    "t = 1\n",
    "err = 1 # cumalative error\n",
    "error_pg = [] # vector of error values \n",
    "x = ix # random initial value\n",
    "px = np.zeros(N) # some random previous value\n",
    "start = time.time()\n",
    "\n",
    "while not np.allclose(px, x, rtol, atol):\n",
    "  px = x\n",
    "  x = proximalGradient(px, AtA, Aty, L, mu)\n",
    "  err = sum(np.square(y-A@x))\n",
    "  error_pg.append(err)\n",
    "  t = t + 1\n",
    "\n",
    "end = time.time()\n",
    "x_pg = x # saving it for plot\n",
    "t_pg = t\n",
    "print('Number of iterations: ', t)\n",
    "print('Cumalative error: ', err)\n",
    "print('Time elapsed: ', end - start)"
   ]
  },
  {
   "cell_type": "markdown",
   "metadata": {
    "colab_type": "text",
    "deletable": true,
    "editable": true,
    "id": "htJycjLClAvo"
   },
   "source": [
    "### **Accelerated proximal gradient iterations**"
   ]
  },
  {
   "cell_type": "code",
   "execution_count": 12,
   "metadata": {
    "colab": {
     "autoexec": {
      "startup": false,
      "wait_interval": 0
     },
     "base_uri": "https://localhost:8080/",
     "height": 71
    },
    "colab_type": "code",
    "collapsed": false,
    "deletable": true,
    "editable": true,
    "executionInfo": {
     "elapsed": 5208,
     "status": "ok",
     "timestamp": 1525023836444,
     "user": {
      "displayName": "Shashi Ranjan",
      "photoUrl": "//lh6.googleusercontent.com/-aj3U1EVR1Uw/AAAAAAAAAAI/AAAAAAAAARQ/zGzRw6982f0/s50-c-k-no/photo.jpg",
      "userId": "109026214015388441225"
     },
     "user_tz": -330
    },
    "id": "Ce-elLiflIZ6",
    "outputId": "1249d27a-a19c-42c7-9959-bce3905ca470"
   },
   "outputs": [
    {
     "name": "stdout",
     "output_type": "stream",
     "text": [
      "Number of iterations:  715\n",
      "Cumalative error:  0.12527863602450395\n",
      "Time elapsed:  5.248501777648926\n"
     ]
    }
   ],
   "source": [
    "t = 1\n",
    "err = 1 # cumalative error\n",
    "error_apg = [] # vector of error values \n",
    "x = ix # random initial value\n",
    "px = np.zeros(N) # some random previous value\n",
    "start = time.time()\n",
    "\n",
    "while not np.allclose(px, x, rtol, atol):\n",
    "  ppx = px\n",
    "  px = x\n",
    "  x = accProximalGradient(px, ppx, t, AtA, Aty, L, mu)\n",
    "  err = sum(np.square(y-A@x))\n",
    "  error_apg.append(err)\n",
    "  t = t + 1\n",
    "\n",
    "end = time.time()\n",
    "x_apg = x # saving it for plot\n",
    "t_apg = t\n",
    "print('Number of iterations: ', t)\n",
    "print('Cumalative error: ', err)\n",
    "print('Time elapsed: ', end - start)"
   ]
  },
  {
   "cell_type": "markdown",
   "metadata": {
    "colab_type": "text",
    "deletable": true,
    "editable": true,
    "id": "qMw_A2qe7c4E"
   },
   "source": [
    "### **Coordinate descent iterations**"
   ]
  },
  {
   "cell_type": "code",
   "execution_count": 13,
   "metadata": {
    "colab": {
     "autoexec": {
      "startup": false,
      "wait_interval": 0
     },
     "base_uri": "https://localhost:8080/",
     "height": 71
    },
    "colab_type": "code",
    "collapsed": false,
    "deletable": true,
    "editable": true,
    "executionInfo": {
     "elapsed": 83050,
     "status": "ok",
     "timestamp": 1525023919534,
     "user": {
      "displayName": "Shashi Ranjan",
      "photoUrl": "//lh6.googleusercontent.com/-aj3U1EVR1Uw/AAAAAAAAAAI/AAAAAAAAARQ/zGzRw6982f0/s50-c-k-no/photo.jpg",
      "userId": "109026214015388441225"
     },
     "user_tz": -330
    },
    "id": "eAAbrbzC74ru",
    "outputId": "4a23db0c-20b8-4c5e-df33-8e32b14b93ab"
   },
   "outputs": [
    {
     "name": "stdout",
     "output_type": "stream",
     "text": [
      "Number of iterations:  652\n",
      "Cumalative error:  0.12503283854866784\n",
      "Time elapsed:  71.78939819335938\n"
     ]
    }
   ],
   "source": [
    "t = 1\n",
    "err = 1 # cumalative error\n",
    "error_cd = [] # vector of error values \n",
    "x = ix # random initial value\n",
    "px = np.zeros(N) # some random previous value\n",
    "start = time.time()\n",
    "\n",
    "while not np.allclose(px, x, rtol, atol):\n",
    "  px = x.copy()\n",
    "  x = coordinateDescent(mu_cd, Aty, AtA, x)\n",
    "  err = sum(np.square(y-A@x))\n",
    "  error_cd.append(err)\n",
    "  t = t + 1\n",
    "\n",
    "end = time.time()\n",
    "x_cd = x # saving it for plot\n",
    "t_cd = t\n",
    "print('Number of iterations: ', t)\n",
    "print('Cumalative error: ', err)\n",
    "print('Time elapsed: ', end - start)"
   ]
  },
  {
   "cell_type": "markdown",
   "metadata": {
    "colab_type": "text",
    "deletable": true,
    "editable": true,
    "id": "7kRIBIzRs_Xa"
   },
   "source": [
    "### **LARS**"
   ]
  },
  {
   "cell_type": "code",
   "execution_count": 6,
   "metadata": {
    "colab": {
     "autoexec": {
      "startup": false,
      "wait_interval": 0
     },
     "base_uri": "https://localhost:8080/",
     "height": 53
    },
    "colab_type": "code",
    "collapsed": false,
    "deletable": true,
    "editable": true,
    "executionInfo": {
     "elapsed": 762,
     "status": "ok",
     "timestamp": 1525024190950,
     "user": {
      "displayName": "Shashi Ranjan",
      "photoUrl": "//lh6.googleusercontent.com/-aj3U1EVR1Uw/AAAAAAAAAAI/AAAAAAAAARQ/zGzRw6982f0/s50-c-k-no/photo.jpg",
      "userId": "109026214015388441225"
     },
     "user_tz": -330
    },
    "id": "VQ3XJUAXeY0G",
    "outputId": "65f2c95f-a0e3-44c1-f6e0-86018cf2cea9"
   },
   "outputs": [
    {
     "ename": "SyntaxError",
     "evalue": "invalid syntax (<ipython-input-6-7d4f89dca205>, line 8)",
     "output_type": "error",
     "traceback": [
      "\u001b[0;36m  File \u001b[0;32m\"<ipython-input-6-7d4f89dca205>\"\u001b[0;36m, line \u001b[0;32m8\u001b[0m\n\u001b[0;31m    err = sum(np.square(y-A@x_lars))\u001b[0m\n\u001b[0m                           ^\u001b[0m\n\u001b[0;31mSyntaxError\u001b[0m\u001b[0;31m:\u001b[0m invalid syntax\n"
     ]
    }
   ],
   "source": [
    "from sklearn import linear_model\n",
    "lars = linear_model.Lars()\n",
    "start = time.time()\n",
    "lars.fit(A,y)\n",
    "end = time.time()\n",
    "x_lars = lars.coef_.reshape(N)\n",
    "t_lars = lars.n_iter_\n",
    "err = sum(np.square(y-A@x_lars))\n",
    "print('Number of iterations: ', t_lars)\n",
    "print('Cumalative error: ', err)\n",
    "print('Time elapsed: ', end - start)"
   ]
  },
  {
   "cell_type": "markdown",
   "metadata": {
    "colab_type": "text",
    "deletable": true,
    "editable": true,
    "id": "7F0yrklxxbyW"
   },
   "source": [
    "### **Plot of original data and recovered data**"
   ]
  },
  {
   "cell_type": "code",
   "execution_count": 5,
   "metadata": {
    "colab": {
     "autoexec": {
      "startup": false,
      "wait_interval": 0
     },
     "base_uri": "https://localhost:8080/",
     "height": 401
    },
    "colab_type": "code",
    "collapsed": false,
    "deletable": true,
    "editable": true,
    "executionInfo": {
     "elapsed": 27022,
     "status": "ok",
     "timestamp": 1525024223044,
     "user": {
      "displayName": "Shashi Ranjan",
      "photoUrl": "//lh6.googleusercontent.com/-aj3U1EVR1Uw/AAAAAAAAAAI/AAAAAAAAARQ/zGzRw6982f0/s50-c-k-no/photo.jpg",
      "userId": "109026214015388441225"
     },
     "user_tz": -330
    },
    "id": "K1X8aKMvxgDQ",
    "outputId": "ea903978-14af-484c-cd22-fa21fd441bc3"
   },
   "outputs": [
    {
     "ename": "NameError",
     "evalue": "name 'X' is not defined",
     "output_type": "error",
     "traceback": [
      "\u001b[0;31m---------------------------------------------------------------------------\u001b[0m",
      "\u001b[0;31mNameError\u001b[0m                                 Traceback (most recent call last)",
      "\u001b[0;32m<ipython-input-5-ab85d6b0f7e2>\u001b[0m in \u001b[0;36m<module>\u001b[0;34m()\u001b[0m\n\u001b[1;32m      2\u001b[0m \u001b[0mplt\u001b[0m\u001b[0;34m.\u001b[0m\u001b[0msubplot\u001b[0m\u001b[0;34m(\u001b[0m\u001b[0;36m511\u001b[0m\u001b[0;34m)\u001b[0m \u001b[0;31m# a 5X1 grid\u001b[0m\u001b[0;34m\u001b[0m\u001b[0m\n\u001b[1;32m      3\u001b[0m \u001b[0mplt\u001b[0m\u001b[0;34m.\u001b[0m\u001b[0mtitle\u001b[0m\u001b[0;34m(\u001b[0m\u001b[0;34m'Original signal'\u001b[0m\u001b[0;34m)\u001b[0m\u001b[0;34m\u001b[0m\u001b[0m\n\u001b[0;32m----> 4\u001b[0;31m \u001b[0mplt\u001b[0m\u001b[0;34m.\u001b[0m\u001b[0mstem\u001b[0m\u001b[0;34m(\u001b[0m\u001b[0mX\u001b[0m\u001b[0;34m)\u001b[0m\u001b[0;34m\u001b[0m\u001b[0m\n\u001b[0m\u001b[1;32m      5\u001b[0m \u001b[0;34m\u001b[0m\u001b[0m\n\u001b[1;32m      6\u001b[0m \u001b[0mplt\u001b[0m\u001b[0;34m.\u001b[0m\u001b[0msubplot\u001b[0m\u001b[0;34m(\u001b[0m\u001b[0;36m512\u001b[0m\u001b[0;34m)\u001b[0m\u001b[0;34m\u001b[0m\u001b[0m\n",
      "\u001b[0;31mNameError\u001b[0m: name 'X' is not defined"
     ]
    }
   ],
   "source": [
    "plt.figure(1)\n",
    "plt.subplot(511) # a 5X1 grid\n",
    "plt.title('Original signal')\n",
    "plt.stem(X)\n",
    "\n",
    "plt.subplot(512)\n",
    "plt.title('Proximal gradient')\n",
    "plt.stem(x_pg)\n",
    "\n",
    "plt.subplot(513)\n",
    "plt.title('Accelerated proximal gradient')\n",
    "plt.stem(x_apg)\n",
    "\n",
    "plt.subplot(514)\n",
    "plt.title('Coordinant Descent')\n",
    "plt.stem(x_cd)\n",
    "\n",
    "plt.subplot(515)\n",
    "plt.title('LARS')\n",
    "plt.stem(x_lars)\n",
    "\n",
    "plt.tight_layout()\n",
    "plt.show()"
   ]
  },
  {
   "cell_type": "markdown",
   "metadata": {
    "colab_type": "text",
    "deletable": true,
    "editable": true,
    "id": "WRZQPnGzZepq"
   },
   "source": [
    "### **Plot of performance of different methods**"
   ]
  },
  {
   "cell_type": "code",
   "execution_count": 16,
   "metadata": {
    "colab": {
     "autoexec": {
      "startup": false,
      "wait_interval": 0
     },
     "base_uri": "https://localhost:8080/",
     "height": 361
    },
    "colab_type": "code",
    "collapsed": false,
    "deletable": true,
    "editable": true,
    "executionInfo": {
     "elapsed": 1272,
     "status": "ok",
     "timestamp": 1525023948770,
     "user": {
      "displayName": "Shashi Ranjan",
      "photoUrl": "//lh6.googleusercontent.com/-aj3U1EVR1Uw/AAAAAAAAAAI/AAAAAAAAARQ/zGzRw6982f0/s50-c-k-no/photo.jpg",
      "userId": "109026214015388441225"
     },
     "user_tz": -330
    },
    "id": "Xuj77TxXZvkA",
    "outputId": "da1b05b3-9bf9-44ec-f361-addb30735fdc"
   },
   "outputs": [
    {
     "data": {
      "image/png": "[encoded data removed]",
      "text/plain": [
       "<Figure size 432x288 with 1 Axes>"
      ]
     },
     "metadata": {},
     "output_type": "display_data"
    }
   ],
   "source": [
    "#min_len = math.ceil(0.1*min(len(error_pg), len(error_apg)))\n",
    "min_len = 100\n",
    "plt.figure(2)\n",
    "plt.xlabel('# iterations')\n",
    "plt.ylabel('Error')\n",
    "plt.plot(error_pg[1:min_len])\n",
    "plt.plot(error_apg[1:min_len])\n",
    "plt.plot(error_cd[1:min_len])\n",
    "plt.show()"
   ]
  },
  {
   "cell_type": "code",
   "execution_count": 17,
   "metadata": {
    "colab": {
     "autoexec": {
      "startup": false,
      "wait_interval": 0
     }
    },
    "colab_type": "code",
    "collapsed": true,
    "deletable": true,
    "editable": true,
    "id": "JsVELybNvgdm"
   },
   "outputs": [],
   "source": [
    "with open('data.tsv', 'w') as f:\n",
    "    for i in range(N):\n",
    "        sent = str(i) +\"\\t\"+ str(X[i]) +\"\\t\"+ str(x_pg[i]) +\"\\t\"+ str(x_apg[i]) +\"\\t\"+ str(x_cd[i]) +\"\\t\"+ str(x_lars[i]) +\"\\n\" \n",
    "        f.write(sent)"
   ]
  },
  {
   "cell_type": "code",
   "execution_count": 18,
   "metadata": {
    "collapsed": true,
    "deletable": true,
    "editable": true
   },
   "outputs": [],
   "source": [
    "with open('error.tsv', 'w') as f:\n",
    "    for i in range(min_len):\n",
    "        sent = str(i) +\"\\t\"+ str(error_pg[i]) +\"\\t\"+ str(error_apg[i]) +\"\\t\"+ str(error_cd[i]) +\"\\n\" \n",
    "        f.write(sent)"
   ]
  }
 ],
 "metadata": {
  "colab": {
   "collapsed_sections": [],
   "default_view": {},
   "name": "compressed_sensing.ipynb",
   "provenance": [],
   "version": "0.3.2",
   "views": {}
  },
  "kernelspec": {
   "display_name": "Python 2",
   "language": "python",
   "name": "python2"
  },
  "language_info": {
   "codemirror_mode": {
    "name": "ipython",
    "version": 2
   },
   "file_extension": ".py",
   "mimetype": "text/x-python",
   "name": "python",
   "nbconvert_exporter": "python",
   "pygments_lexer": "ipython2",
   "version": "2.7.12"
  }
 },
 "nbformat": 4,
 "nbformat_minor": 1
}
