{
 "cells": [
  {
   "cell_type": "code",
   "execution_count": 1,
   "metadata": {
    "collapsed": true,
    "deletable": true,
    "editable": true
   },
   "outputs": [],
   "source": [
    "from bvh import Bvh, BvhNode"
   ]
  },
  {
   "cell_type": "code",
   "execution_count": 3,
   "metadata": {
    "collapsed": false,
    "deletable": true,
    "editable": true
   },
   "outputs": [],
   "source": [
    "# run sequence: comvert to vec\n",
    "# 1\n",
    "skel = None\n",
    "root = \"/home/sourav/Datasets/fmorph/male_random_1/\"\n",
    "with open(root + \"skeleton.bvh\") as f:\n",
    "    skel = Bvh(f.read())"
   ]
  },
  {
   "cell_type": "code",
   "execution_count": null,
   "metadata": {
    "collapsed": false,
    "deletable": true,
    "editable": true
   },
   "outputs": [
    {
     "name": "stdout",
     "output_type": "stream",
     "text": [
      "hip: Do you want to keep this joint?Y\n",
      "Added index 0 Total: 1\n",
      "waist: Do you want to keep this joint?Y\n",
      "Added index 1 Total: 2\n",
      "abdomen: Do you want to keep this joint?y\n",
      "Added index 2 Total: 3\n",
      "chest: Do you want to keep this joint?y\n",
      "Added index 3 Total: 4\n",
      "neck: Do you want to keep this joint?y\n",
      "Added index 4 Total: 5\n",
      "head: Do you want to keep this joint?y\n",
      "Added index 5 Total: 6\n",
      "leftEye: Do you want to keep this joint?n\n",
      "rightEye: Do you want to keep this joint?n\n",
      "TopTeeth: Do you want to keep this joint?n\n",
      "BttmTeeth: Do you want to keep this joint?n\n",
      "Tongue1: Do you want to keep this joint?n\n",
      "Tongue2: Do you want to keep this joint?n\n",
      "Tongue3: Do you want to keep this joint?n\n",
      "Tongue4: Do you want to keep this joint?n\n",
      "Tongue5: Do you want to keep this joint?n\n",
      "Tongue6: Do you want to keep this joint?n\n",
      "lCollar: Do you want to keep this joint?y\n",
      "Added index 16 Total: 7\n",
      "lShldr: Do you want to keep this joint?y\n",
      "Added index 17 Total: 8\n",
      "lForeArm: Do you want to keep this joint?y\n",
      "Added index 18 Total: 9\n",
      "lHand: Do you want to keep this joint?y\n",
      "Added index 19 Total: 10\n",
      "lThumb1: Do you want to keep this joint?n\n",
      "lThumb2: Do you want to keep this joint?n\n",
      "lThumb3: Do you want to keep this joint?n\n",
      "lIndex0: Do you want to keep this joint?n\n",
      "lIndex1: Do you want to keep this joint?n\n",
      "lIndex2: Do you want to keep this joint?n\n",
      "lIndex3: Do you want to keep this joint?n\n",
      "lMid0: Do you want to keep this joint?n\n",
      "lMid1: Do you want to keep this joint?n\n",
      "lMid2: Do you want to keep this joint?n\n",
      "lMid3: Do you want to keep this joint?n\n",
      "lRing0: Do you want to keep this joint?n\n",
      "lRing1: Do you want to keep this joint?n\n",
      "lRing2: Do you want to keep this joint?n\n",
      "lRing3: Do you want to keep this joint?n\n",
      "lPinky0: Do you want to keep this joint?n\n",
      "lPinky1: Do you want to keep this joint?n\n",
      "lPinky2: Do you want to keep this joint?n\n",
      "lPinky3: Do you want to keep this joint?n\n",
      "rCollar: Do you want to keep this joint?y\n",
      "Added index 39 Total: 11\n",
      "rShldr: Do you want to keep this joint?y\n",
      "Added index 40 Total: 12\n",
      "rForeArm: Do you want to keep this joint?y\n",
      "Added index 41 Total: 13\n",
      "rHand: Do you want to keep this joint?y\n",
      "Added index 42 Total: 14\n",
      "rThumb1: Do you want to keep this joint?n\n",
      "rThumb2: Do you want to keep this joint?n\n",
      "rThumb3: Do you want to keep this joint?n\n",
      "rIndex0: Do you want to keep this joint?n\n",
      "rIndex1: Do you want to keep this joint?n\n",
      "rIndex2: Do you want to keep this joint?n\n",
      "rIndex3: Do you want to keep this joint?n\n",
      "rMid0: Do you want to keep this joint?n\n",
      "rMid1: Do you want to keep this joint?n\n",
      "rMid2: Do you want to keep this joint?n\n",
      "rMid3: Do you want to keep this joint?n\n",
      "rRing0: Do you want to keep this joint?n\n",
      "rRing1: Do you want to keep this joint?n\n",
      "rRing2: Do you want to keep this joint?n\n",
      "rRing3: Do you want to keep this joint?n\n",
      "rPinky0: Do you want to keep this joint?n\n",
      "rPinky1: Do you want to keep this joint?n\n",
      "rPinky2: Do you want to keep this joint?n\n",
      "rPinky3: Do you want to keep this joint?n\n",
      "lButtock: Do you want to keep this joint?n\n",
      "lThigh: Do you want to keep this joint?y\n",
      "Added index 63 Total: 15\n",
      "lShin: Do you want to keep this joint?y\n",
      "Added index 64 Total: 16\n",
      "lFoot: Do you want to keep this joint?y\n",
      "Added index 65 Total: 17\n",
      "lToe: Do you want to keep this joint?y\n",
      "Added index 66 Total: 18\n",
      "lBigToe1: Do you want to keep this joint?n\n",
      "lBigToe2: Do you want to keep this joint?n\n",
      "lIndexToe1: Do you want to keep this joint?n\n",
      "lIndexToe2: Do you want to keep this joint?n\n",
      "lMidToe1: Do you want to keep this joint?n\n",
      "lMidToe2: Do you want to keep this joint?n\n"
     ]
    }
   ],
   "source": [
    "# process joints, no need of all joints\n",
    "joint_subset_indices = []\n",
    "index = 0\n",
    "for joint in skel.get_joints_names():\n",
    "    ch = raw_input(joint + \": Do you want to keep this joint?\")\n",
    "    if ch == \"y\" or ch == \"Y\":\n",
    "        joint_subset_indices.append(index)\n",
    "        print \"Added index \" + str(index),\n",
    "        print \"Total: \" + str(len(joint_subset_indices))\n",
    "    index += 1"
   ]
  },
  {
   "cell_type": "code",
   "execution_count": null,
   "metadata": {
    "collapsed": true,
    "deletable": true,
    "editable": true
   },
   "outputs": [],
   "source": [
    "# save the preprocessing\n",
    "f = open(\"/home/sourav/Datasets/fmorph/joint_names.txt\", \"w\")\n",
    "joints_names = skel.get_joints_names()\n",
    "for val in joint_subset_indices:\n",
    "    f.write(joints_names[val] + \" \")\n",
    "    # f.write(str(val) + \" \")\n",
    "f.close()"
   ]
  },
  {
   "cell_type": "code",
   "execution_count": 141,
   "metadata": {
    "collapsed": false,
    "deletable": true,
    "editable": true
   },
   "outputs": [],
   "source": [
    "# run sequence: convert to vec\n",
    "# 2\n",
    "skel_vec = []\n",
    "for index in joint_subset_indices:\n",
    "    joint = joints_names[index]\n",
    "    joint_channels = skel.frame_joint_channels(0, joint, skel.joint_channels(joint))\n",
    "    skel_vec += joint_channels"
   ]
  },
  {
   "cell_type": "code",
   "execution_count": 143,
   "metadata": {
    "collapsed": false,
    "deletable": true,
    "editable": true
   },
   "outputs": [],
   "source": [
    "# run sequence: convert to vec\n",
    "# 3\n",
    "f = open(root + \"skel.vec\", \"w\")\n",
    "for attr in skel_vec:\n",
    "    f.write(str(attr) + \" \")\n",
    "f.close()"
   ]
  },
  {
   "cell_type": "code",
   "execution_count": 149,
   "metadata": {
    "collapsed": false,
    "deletable": true,
    "editable": true
   },
   "outputs": [],
   "source": [
    "f = open(root + \"support.info\", \"w\")\n",
    "joints_names = skel.get_joints_names()\n",
    "for index in joint_subset_indices:\n",
    "    name = joints_names[index]\n",
    "    f.write(name + \" \\n\")\n",
    "f.close()"
   ]
  }
 ],
 "metadata": {
  "kernelspec": {
   "display_name": "Python 2",
   "language": "python",
   "name": "python2"
  },
  "language_info": {
   "codemirror_mode": {
    "name": "ipython",
    "version": 2
   },
   "file_extension": ".py",
   "mimetype": "text/x-python",
   "name": "python",
   "nbconvert_exporter": "python",
   "pygments_lexer": "ipython2",
   "version": "2.7.12"
  }
 },
 "nbformat": 4,
 "nbformat_minor": 2
}
