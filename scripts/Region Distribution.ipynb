{
 "cells": [
  {
   "cell_type": "code",
   "execution_count": 7,
   "metadata": {
    "collapsed": true,
    "deletable": true,
    "editable": true
   },
   "outputs": [],
   "source": [
    "root = \"/home/sourav/Datasets/fmorph/\"\n",
    "folder_name = \"male_sitting_\"\n",
    "file_name = \"support.info\"\n",
    "\n",
    "def read_support_file(path):\n",
    "    \n",
    "    '''returns a vector of 0s and 1s'''\n",
    "    vec = []\n",
    "    with open(path, 'r') as fp:\n",
    "        for line in fp:\n",
    "            vec.append(int(line.strip().split()[1]))\n",
    "    return vec\n",
    "\n",
    "from operator import add"
   ]
  },
  {
   "cell_type": "code",
   "execution_count": 96,
   "metadata": {
    "collapsed": false,
    "deletable": true,
    "editable": true
   },
   "outputs": [],
   "source": [
    "# run this to generate the bar graph for regions\n",
    "data = [0] * 25\n",
    "for i in range(1, 18):\n",
    "    if i == 8:\n",
    "        continue;\n",
    "    path = root + folder_name + str(i) + \"/\" + file_name\n",
    "    data = list(map(add, data, read_support_file(path)))"
   ]
  },
  {
   "cell_type": "code",
   "execution_count": 97,
   "metadata": {
    "collapsed": false,
    "deletable": true,
    "editable": true
   },
   "outputs": [],
   "source": [
    "data = list(map(lambda x: x/17.0, data))"
   ]
  },
  {
   "cell_type": "code",
   "execution_count": 99,
   "metadata": {
    "collapsed": false,
    "deletable": true,
    "editable": true
   },
   "outputs": [],
   "source": [
    "output_plot_data_path = \"/home/sourav/Experimentation/bvh-python/plots/files/data.dat\"\n",
    "joint_names_path = root + \"joint_names.txt\"\n",
    "\n",
    "joint_names_list = []\n",
    "with open(joint_names_path, 'r') as fp:\n",
    "    joint_names_list = fp.read().strip().split()\n",
    "\n",
    "with open(output_plot_data_path, 'w') as fp:\n",
    "    for i in range(0,25):\n",
    "        fp.write(str(i+1) + \" \" + joint_names_list[i] + \" \" + str(data[i]) + '\\n')\n",
    "        \n",
    "with open(root + \"region_dist_vec.dat\", \"w\") as fp:\n",
    "    for val in data:\n",
    "        fp.write(str(val) + \" \")"
   ]
  }
 ],
 "metadata": {
  "kernelspec": {
   "display_name": "Python 2",
   "language": "python",
   "name": "python2"
  },
  "language_info": {
   "codemirror_mode": {
    "name": "ipython",
    "version": 2
   },
   "file_extension": ".py",
   "mimetype": "text/x-python",
   "name": "python",
   "nbconvert_exporter": "python",
   "pygments_lexer": "ipython2",
   "version": "2.7.12"
  }
 },
 "nbformat": 4,
 "nbformat_minor": 2
}
